{
 "cells": [
  {
   "cell_type": "code",
   "execution_count": 102,
   "id": "236d2e55-d853-4520-b61a-329211f2b569",
   "metadata": {},
   "outputs": [
    {
     "ename": "SyntaxError",
     "evalue": "invalid syntax (2616244961.py, line 7)",
     "output_type": "error",
     "traceback": [
      "\u001b[0;36m  File \u001b[0;32m\"/tmp/ipykernel_599414/2616244961.py\"\u001b[0;36m, line \u001b[0;32m7\u001b[0m\n\u001b[0;31m    pip install pandas-datareader\u001b[0m\n\u001b[0m        ^\u001b[0m\n\u001b[0;31mSyntaxError\u001b[0m\u001b[0;31m:\u001b[0m invalid syntax\n"
     ]
    }
   ],
   "source": [
    "import yfinance as yf\n",
    "import pandas as pd\n",
    "import numpy as np\n",
    "import datetime as dt\n",
    "import matplotlib.pyplot as plt"
   ]
  },
  {
   "cell_type": "code",
   "execution_count": 66,
   "id": "e49f3b9b-96e7-4436-b37f-a8d796aae570",
   "metadata": {},
   "outputs": [
    {
     "name": "stdout",
     "output_type": "stream",
     "text": [
      "Defaulting to user installation because normal site-packages is not writeable\n",
      "Requirement already satisfied: tabulate in /opt/tljh/user/lib/python3.9/site-packages (0.8.9)\n",
      "Note: you may need to restart the kernel to use updated packages.\n"
     ]
    }
   ],
   "source": [
    "pip install tabulate"
   ]
  },
  {
   "cell_type": "code",
   "execution_count": 67,
   "id": "c58298be-e9ba-4326-aebe-49262062f8a0",
   "metadata": {},
   "outputs": [],
   "source": [
    "from tabulate import tabulate"
   ]
  },
  {
   "cell_type": "code",
   "execution_count": 182,
   "id": "9e23ec7f-6fb7-4c0c-98e2-08ca0fc24a05",
   "metadata": {},
   "outputs": [
    {
     "name": "stdout",
     "output_type": "stream",
     "text": [
      "[*********************100%***********************]  7 of 7 completed\n"
     ]
    }
   ],
   "source": [
    "data = yf.download(\n",
    "        \"TSLA, GOOGL, GME, AMC, BB, BBBY, FIZZ\", start = \"2012-07-12\", end = \"2022-07-13\"\n",
    ")"
   ]
  },
  {
   "cell_type": "code",
   "execution_count": 96,
   "id": "1da3a9d8-61fb-4771-928f-5761d47779d8",
   "metadata": {},
   "outputs": [],
   "source": []
  },
  {
   "cell_type": "code",
   "execution_count": 99,
   "id": "f52eb783-b280-428a-a324-6afbb7b1a820",
   "metadata": {},
   "outputs": [
    {
     "name": "stdout",
     "output_type": "stream",
     "text": [
      "[*********************100%***********************]  7 of 7 completed\n"
     ]
    },
    {
     "data": {
      "text/plain": [
       "AMC      104.813733\n",
       "BB        69.847132\n",
       "BBBY     104.975754\n",
       "FIZZ      38.539097\n",
       "GME      118.337202\n",
       "GOOGL     42.215428\n",
       "TSLA      75.342181\n",
       "dtype: float64"
      ]
     },
     "execution_count": 99,
     "metadata": {},
     "output_type": "execute_result"
    }
   ],
   "source": [
    "#annualized volatility for 3 months\n",
    "\n",
    "data_three_m = yf.download(\n",
    "        \"TSLA, GOOGL, GME, AMC, BB, BBBY, FIZZ\", start = \"2022-04-12\", end = \"2022-07-13\"\n",
    ")\n",
    "\n",
    "\n",
    "data_three_m.dropna(inplace=True)\n",
    "\n",
    "data = data_three_m['Adj Close']\n",
    "\n",
    "import matplotlib.pyplot as plt\n",
    "stds = data.pct_change().std() * np.sqrt(252) * 100\n",
    "stds"
   ]
  },
  {
   "cell_type": "code",
   "execution_count": 118,
   "id": "60fdf6bf-2d6f-4b62-8475-31a3f8b33d50",
   "metadata": {},
   "outputs": [
    {
     "name": "stdout",
     "output_type": "stream",
     "text": [
      "[*********************100%***********************]  8 of 8 completed\n"
     ]
    },
    {
     "data": {
      "text/plain": [
       "1.9479738585612192"
      ]
     },
     "execution_count": 118,
     "metadata": {},
     "output_type": "execute_result"
    }
   ],
   "source": [
    "#beta SPY\n",
    "\n",
    "data_twelve_month = yf.download(\n",
    "        \"TSLA, GOOGL, GME, AMC, BB, BBBY, FIZZ, SPY\", start = \"2021-07-12\", end = \"2022-07-13\"\n",
    ")\n",
    " \n",
    "data_beta = data_twelve_month['Adj Close']\n",
    " \n",
    "log_returns = np.log(data_beta/data_beta.shift())\n",
    "\n",
    "cov = log_returns.cov()\n",
    "var = log_returns['SPY'].var()\n",
    "\n",
    "cov.loc['TSLA', 'SPY']/var"
   ]
  },
  {
   "cell_type": "code",
   "execution_count": 119,
   "id": "b799290c-a0ff-4412-b345-a4336eb14b01",
   "metadata": {},
   "outputs": [
    {
     "data": {
      "text/plain": [
       "1.2845087143250462"
      ]
     },
     "execution_count": 119,
     "metadata": {},
     "output_type": "execute_result"
    }
   ],
   "source": [
    "cov.loc['GOOGL', 'SPY']/var"
   ]
  },
  {
   "cell_type": "code",
   "execution_count": 120,
   "id": "72bc1022-210d-425f-8470-966d8187d9dd",
   "metadata": {},
   "outputs": [
    {
     "data": {
      "text/plain": [
       "2.102611801908878"
      ]
     },
     "execution_count": 120,
     "metadata": {},
     "output_type": "execute_result"
    }
   ],
   "source": [
    "cov.loc['GME', 'SPY']/var"
   ]
  },
  {
   "cell_type": "code",
   "execution_count": 121,
   "id": "e6ce357f-4ded-4f35-b323-b4abe27f760c",
   "metadata": {},
   "outputs": [
    {
     "data": {
      "text/plain": [
       "2.2053777009909306"
      ]
     },
     "execution_count": 121,
     "metadata": {},
     "output_type": "execute_result"
    }
   ],
   "source": [
    "cov.loc['AMC', 'SPY']/var"
   ]
  },
  {
   "cell_type": "code",
   "execution_count": 122,
   "id": "7515b2ed-80cd-4a29-8c4e-752f63103f47",
   "metadata": {},
   "outputs": [
    {
     "data": {
      "text/plain": [
       "1.8091128110333217"
      ]
     },
     "execution_count": 122,
     "metadata": {},
     "output_type": "execute_result"
    }
   ],
   "source": [
    "cov.loc['BB', 'SPY']/var"
   ]
  },
  {
   "cell_type": "code",
   "execution_count": 123,
   "id": "72643a56-578f-4fe2-96b5-30c29a3089a8",
   "metadata": {},
   "outputs": [
    {
     "data": {
      "text/plain": [
       "1.8085608535273974"
      ]
     },
     "execution_count": 123,
     "metadata": {},
     "output_type": "execute_result"
    }
   ],
   "source": [
    "cov.loc['BBBY', 'SPY']/var"
   ]
  },
  {
   "cell_type": "code",
   "execution_count": 124,
   "id": "d748f564-4536-441a-a9e3-035c2320536f",
   "metadata": {},
   "outputs": [
    {
     "data": {
      "text/plain": [
       "0.7649746438098021"
      ]
     },
     "execution_count": 124,
     "metadata": {},
     "output_type": "execute_result"
    }
   ],
   "source": [
    "cov.loc['FIZZ', 'SPY']/var"
   ]
  },
  {
   "cell_type": "code",
   "execution_count": 128,
   "id": "ba1647f9-6c13-4a85-a823-38e0be24330b",
   "metadata": {},
   "outputs": [
    {
     "name": "stdout",
     "output_type": "stream",
     "text": [
      "[*********************100%***********************]  8 of 8 completed\n"
     ]
    },
    {
     "data": {
      "text/plain": [
       "1.568537104078637"
      ]
     },
     "execution_count": 128,
     "metadata": {},
     "output_type": "execute_result"
    }
   ],
   "source": [
    "#beta IWM\n",
    "\n",
    "data_twelve_month = yf.download(\n",
    "        \"TSLA, GOOGL, GME, AMC, BB, BBBY, FIZZ, IWM\", start = \"2021-07-12\", end = \"2022-07-13\"\n",
    ")\n",
    " \n",
    "data_beta = data_twelve_month['Adj Close']\n",
    " \n",
    "log_returns = np.log(data_beta/data_beta.shift())\n",
    "\n",
    "cov = log_returns.cov()\n",
    "var = log_returns['IWM'].var()\n",
    "\n",
    "cov.loc['TSLA', 'IWM']/var"
   ]
  },
  {
   "cell_type": "code",
   "execution_count": 129,
   "id": "4f4df171-e587-49a2-8048-9e41aa465c14",
   "metadata": {},
   "outputs": [
    {
     "data": {
      "text/plain": [
       "0.8300901053550491"
      ]
     },
     "execution_count": 129,
     "metadata": {},
     "output_type": "execute_result"
    }
   ],
   "source": [
    "cov.loc['GOOGL', 'IWM']/var"
   ]
  },
  {
   "cell_type": "code",
   "execution_count": 130,
   "id": "8bf4b920-14f7-4b7d-9993-a25fca3cb0b6",
   "metadata": {},
   "outputs": [
    {
     "data": {
      "text/plain": [
       "2.026969461226027"
      ]
     },
     "execution_count": 130,
     "metadata": {},
     "output_type": "execute_result"
    }
   ],
   "source": [
    "cov.loc['GME', 'IWM']/var"
   ]
  },
  {
   "cell_type": "code",
   "execution_count": null,
   "id": "674a411c-dac6-4d0d-b027-aa3e260861ce",
   "metadata": {},
   "outputs": [
    {
     "data": {
      "text/plain": [
       "2.218264566999172"
      ]
     },
     "execution_count": 131,
     "metadata": {},
     "output_type": "execute_result"
    }
   ],
   "source": [
    "cov.loc['AMC', 'IWM']/var"
   ]
  },
  {
   "cell_type": "code",
   "execution_count": 132,
   "id": "14febb1f-7f7b-4b79-861d-77cf816c0a16",
   "metadata": {},
   "outputs": [
    {
     "data": {
      "text/plain": [
       "1.6300655354608682"
      ]
     },
     "execution_count": 132,
     "metadata": {},
     "output_type": "execute_result"
    }
   ],
   "source": [
    "cov.loc['BB', 'IWM']/var"
   ]
  },
  {
   "cell_type": "code",
   "execution_count": null,
   "id": "0d271ef3-cf9d-45a6-a56d-313527f58f9a",
   "metadata": {},
   "outputs": [
    {
     "data": {
      "text/plain": [
       "1.9151327038890589"
      ]
     },
     "execution_count": 133,
     "metadata": {},
     "output_type": "execute_result"
    }
   ],
   "source": [
    "cov.loc['BBBY', 'IWM']/var"
   ]
  },
  {
   "cell_type": "code",
   "execution_count": 137,
   "id": "ccf24ad3-d248-4b79-b319-1a742e45b95f",
   "metadata": {},
   "outputs": [
    {
     "data": {
      "text/plain": [
       "0.6711877848368797"
      ]
     },
     "execution_count": 137,
     "metadata": {},
     "output_type": "execute_result"
    }
   ],
   "source": [
    "cov.loc['FIZZ', 'IWM']/var"
   ]
  },
  {
   "cell_type": "code",
   "execution_count": 138,
   "id": "d6ffec0c-32d2-4417-bd9d-a13bac129518",
   "metadata": {},
   "outputs": [
    {
     "name": "stdout",
     "output_type": "stream",
     "text": [
      "[*********************100%***********************]  8 of 8 completed\n"
     ]
    },
    {
     "data": {
      "text/plain": [
       "1.894856764892976"
      ]
     },
     "execution_count": 138,
     "metadata": {},
     "output_type": "execute_result"
    }
   ],
   "source": [
    "#beta DIA\n",
    "\n",
    "data_twelve_month = yf.download(\n",
    "        \"TSLA, GOOGL, GME, AMC, BB, BBBY, FIZZ, DIA\", start = \"2021-07-12\", end = \"2022-07-13\"\n",
    ")\n",
    " \n",
    "data_beta = data_twelve_month['Adj Close']\n",
    " \n",
    "log_returns = np.log(data_beta/data_beta.shift())\n",
    "\n",
    "cov = log_returns.cov()\n",
    "var = log_returns['DIA'].var()\n",
    "\n",
    "cov.loc['TSLA', 'DIA']/var"
   ]
  },
  {
   "cell_type": "code",
   "execution_count": 139,
   "id": "186c4a91-03ec-4ca3-b389-43bad3f1577e",
   "metadata": {},
   "outputs": [
    {
     "data": {
      "text/plain": [
       "1.3461252578440046"
      ]
     },
     "execution_count": 139,
     "metadata": {},
     "output_type": "execute_result"
    }
   ],
   "source": [
    "cov.loc['GOOGL', 'DIA']/var"
   ]
  },
  {
   "cell_type": "code",
   "execution_count": 140,
   "id": "7dfe79b6-3552-44c6-a58b-65c5aa78cc0e",
   "metadata": {},
   "outputs": [
    {
     "data": {
      "text/plain": [
       "2.0797752450634714"
      ]
     },
     "execution_count": 140,
     "metadata": {},
     "output_type": "execute_result"
    }
   ],
   "source": [
    "cov.loc['GME', 'DIA']/var"
   ]
  },
  {
   "cell_type": "code",
   "execution_count": 141,
   "id": "8a58ec67-78c8-4139-9b00-7f790f9cfc22",
   "metadata": {},
   "outputs": [
    {
     "data": {
      "text/plain": [
       "2.227240169822518"
      ]
     },
     "execution_count": 141,
     "metadata": {},
     "output_type": "execute_result"
    }
   ],
   "source": [
    "cov.loc['AMC', 'DIA']/var"
   ]
  },
  {
   "cell_type": "code",
   "execution_count": 142,
   "id": "778dca24-aaca-4fde-ba3c-901cb555e7ba",
   "metadata": {},
   "outputs": [
    {
     "data": {
      "text/plain": [
       "1.9264834834929547"
      ]
     },
     "execution_count": 142,
     "metadata": {},
     "output_type": "execute_result"
    }
   ],
   "source": [
    "cov.loc['BB', 'DIA']/var"
   ]
  },
  {
   "cell_type": "code",
   "execution_count": 143,
   "id": "7122eef8-1d70-410f-90a7-5327269b1852",
   "metadata": {},
   "outputs": [
    {
     "data": {
      "text/plain": [
       "1.9558435543253443"
      ]
     },
     "execution_count": 143,
     "metadata": {},
     "output_type": "execute_result"
    }
   ],
   "source": [
    "cov.loc['BBBY', 'DIA']/var"
   ]
  },
  {
   "cell_type": "code",
   "execution_count": 144,
   "id": "f11ac9fe-9e4c-4173-bf3a-3df17e06776b",
   "metadata": {},
   "outputs": [
    {
     "data": {
      "text/plain": [
       "0.8501990003706335"
      ]
     },
     "execution_count": 144,
     "metadata": {},
     "output_type": "execute_result"
    }
   ],
   "source": [
    "cov.loc['FIZZ', 'DIA']/var"
   ]
  },
  {
   "cell_type": "code",
   "execution_count": 174,
   "id": "232087b9-c622-45a1-99af-75868671b6e4",
   "metadata": {},
   "outputs": [],
   "source": []
  },
  {
   "cell_type": "code",
   "execution_count": 176,
   "id": "8c181f87-7b37-4d79-b2bd-2e35d7c92865",
   "metadata": {},
   "outputs": [
    {
     "ename": "NameError",
     "evalue": "name 'df' is not defined",
     "output_type": "error",
     "traceback": [
      "\u001b[0;31m---------------------------------------------------------------------------\u001b[0m",
      "\u001b[0;31mNameError\u001b[0m                                 Traceback (most recent call last)",
      "\u001b[0;32m/tmp/ipykernel_599414/3584618242.py\u001b[0m in \u001b[0;36m<module>\u001b[0;34m\u001b[0m\n\u001b[1;32m     16\u001b[0m \u001b[0;34m\u001b[0m\u001b[0m\n\u001b[1;32m     17\u001b[0m     \u001b[0;32mreturn\u001b[0m \u001b[0msum\u001b[0m\u001b[0;34m(\u001b[0m\u001b[0mdrawdowns\u001b[0m\u001b[0;34m)\u001b[0m\u001b[0;34m/\u001b[0m\u001b[0mlen\u001b[0m\u001b[0;34m(\u001b[0m\u001b[0mdrawdowns\u001b[0m\u001b[0;34m)\u001b[0m\u001b[0;34m\u001b[0m\u001b[0;34m\u001b[0m\u001b[0m\n\u001b[0;32m---> 18\u001b[0;31m \u001b[0mtable_1\u001b[0m\u001b[0;34m[\u001b[0m\u001b[0;34m'drawdown'\u001b[0m\u001b[0;34m]\u001b[0m \u001b[0;34m=\u001b[0m \u001b[0mdf\u001b[0m\u001b[0;34m.\u001b[0m\u001b[0mapply\u001b[0m\u001b[0;34m(\u001b[0m\u001b[0;32mlambda\u001b[0m \u001b[0mx\u001b[0m\u001b[0;34m:\u001b[0m \u001b[0mav_dd\u001b[0m\u001b[0;34m(\u001b[0m\u001b[0mx\u001b[0m\u001b[0;34m)\u001b[0m\u001b[0;34m)\u001b[0m\u001b[0;34m\u001b[0m\u001b[0;34m\u001b[0m\u001b[0m\n\u001b[0m",
      "\u001b[0;31mNameError\u001b[0m: name 'df' is not defined"
     ]
    }
   ],
   "source": [
    "def av_dd(series):\n",
    "    series = series.values # convert to numpy array\n",
    "    drawdowns = []\n",
    "    loc_max = argrelextrema(series, np.greater)[0] # getting indexes of local maximums\n",
    "    loc_min = argrelextrema(series, np.less)[0] # getting indexes of local minimums\n",
    "\n",
    "    # adding first value of series if first local minimum comes before first local maximum (you want the first drawdown to be taken into account)\n",
    "    if series[0]>series[1]:\n",
    "        loc_max = np.insert(loc_max,0,0)\n",
    "    # adding last value of series if last local maximum comes after last local minimum (you want the last drawdown to be taken into account)\n",
    "    if len(loc_max)>len(loc_min):\n",
    "        loc_min = np.append(loc_min, len(series)-1) \n",
    "\n",
    "    for i in range(len(loc_max)):\n",
    "        drawdowns.append(series[loc_min[i]]/series[loc_max[i]]-1)\n",
    "\n",
    "    return sum(drawdowns)/len(drawdowns)\n",
    "\n",
    "table_1['drawdown'] = df.apply(lambda x: av_dd(x))"
   ]
  },
  {
   "cell_type": "code",
   "execution_count": 168,
   "id": "0eaf78bb-bdb6-4612-828c-2194b27c82dd",
   "metadata": {},
   "outputs": [
    {
     "name": "stdout",
     "output_type": "stream",
     "text": [
      "[*********************100%***********************]  10 of 10 completed\n",
      "       drawdown\n",
      "TSLA  -2.023767\n",
      "GOOGL -1.699749\n",
      "GME   -1.638826\n",
      "AMC   -1.464313\n",
      "BB    -1.760270\n",
      "BBBY  -1.914877\n",
      "FIZZ  -1.618678\n"
     ]
    }
   ],
   "source": [
    "#Maximum 52 week drawdown\n",
    "\n",
    "end = dt.datetime(2022,7,13)\n",
    "start = end - dt.timedelta(weeks = 52)\n",
    "\n",
    "tickers = [\"TSLA\", \"GOOGL\", \"GME\", \"AMC\", \"BB\", \"BBBY\", \"FIZZ\"]\n",
    "bench = ['SPY', 'IWM', 'DIA']\n",
    "\n",
    "table_1 = pd.DataFrame(index=tickers)\n",
    "data = yf.download(tickers+bench, start, end)['Adj Close']\n",
    "\n",
    "log_returns = np.log(data/data.shift())\n",
    "\n",
    "\n",
    "table_1[\"drawdown\"] = (log_returns.min() - log_returns.max() ) / log_returns.max()\n",
    "\n",
    "print(table_1)"
   ]
  },
  {
   "cell_type": "code",
   "execution_count": 197,
   "id": "1cc42eb3-bd2b-4636-87b8-a0e8130b203e",
   "metadata": {},
   "outputs": [
    {
     "name": "stdout",
     "output_type": "stream",
     "text": [
      "                  AMC        BB      BBBY      FIZZ       GME     GOOGL  \\\n",
      "Date                                                                      \n",
      "2012-12-31        NaN       NaN       NaN       NaN       NaN       NaN   \n",
      "2013-12-31        NaN -0.373210  0.436237  0.381768  1.024175  0.584311   \n",
      "2014-12-31   0.306203  0.475806 -0.051432  0.122024 -0.291115 -0.053940   \n",
      "2015-12-31  -0.057187 -0.154827 -0.366549  1.008842 -0.139745  0.466118   \n",
      "2016-12-31   0.440981 -0.257543 -0.150581  0.156615 -0.050745  0.018560   \n",
      "2017-12-31  -0.530865  0.621190 -0.448634  0.937891 -0.236550  0.329295   \n",
      "2018-12-31  -0.077547 -0.363474 -0.466169 -0.239240 -0.221714 -0.008012   \n",
      "2019-12-31  -0.366032 -0.097046  0.608282 -0.289118 -0.501879  0.281762   \n",
      "2020-12-31  -0.705386  0.032710  0.049921  0.771400  2.098684  0.308536   \n",
      "2021-12-31  11.830190  0.410256 -0.179054  0.133870  6.876327  0.652958   \n",
      "2022-12-31  -0.426471 -0.397861 -0.654321  0.072138 -0.075949 -0.212848   \n",
      "\n",
      "                TSLA  \n",
      "Date                  \n",
      "2012-12-31       NaN  \n",
      "2013-12-31  3.441394  \n",
      "2014-12-31  0.478495  \n",
      "2015-12-31  0.079133  \n",
      "2016-12-31 -0.109662  \n",
      "2017-12-31  0.457017  \n",
      "2018-12-31  0.068893  \n",
      "2019-12-31  0.257001  \n",
      "2020-12-31  7.434370  \n",
      "2021-12-31  0.497556  \n",
      "2022-12-31 -0.338358  \n"
     ]
    },
    {
     "data": {
      "text/plain": [
       "AMC      10.413886\n",
       "BB       -0.103998\n",
       "BBBY     -1.222299\n",
       "FIZZ      3.056189\n",
       "GME       8.481490\n",
       "GOOGL     2.366739\n",
       "TSLA     12.265839\n",
       "dtype: float64"
      ]
     },
     "execution_count": 197,
     "metadata": {},
     "output_type": "execute_result"
    }
   ],
   "source": [
    "#total returns over the last 10 years\n",
    "\n",
    "annual_returns = data['Adj Close'].resample('A').ffill().pct_change()\n",
    "print(annual_returns)\n",
    "\n",
    "annual_returns.sum()"
   ]
  },
  {
   "cell_type": "code",
   "execution_count": 198,
   "id": "563c4a34-ac60-416d-873e-d50096ce762c",
   "metadata": {},
   "outputs": [
    {
     "data": {
      "text/plain": [
       "AMC      1.157098\n",
       "BB      -0.010400\n",
       "BBBY    -0.122230\n",
       "FIZZ     0.305619\n",
       "GME      0.848149\n",
       "GOOGL    0.236674\n",
       "TSLA     1.226584\n",
       "dtype: float64"
      ]
     },
     "execution_count": 198,
     "metadata": {},
     "output_type": "execute_result"
    }
   ],
   "source": [
    "#annual returns over the last 10 years\n",
    "\n",
    "annual_returns.mean()"
   ]
  },
  {
   "cell_type": "code",
   "execution_count": 205,
   "id": "794a3d31-d55d-4423-9469-fe697b2420a3",
   "metadata": {},
   "outputs": [
    {
     "name": "stdout",
     "output_type": "stream",
     "text": [
      "╒══════════╤══════════╤══════════╤════════════╤════════════╤════════════╤═════════╤══════════╤═══════════╤═══════════╕\n",
      "│ Ticker   │   Weight │   Vol 3M │   Beta SPY │   Beta IWM │   Beta DIA │ Av DD   │   Max DD │        TR │        AR │\n",
      "╞══════════╪══════════╪══════════╪════════════╪════════════╪════════════╪═════════╪══════════╪═══════════╪═══════════╡\n",
      "│ TSLA     │    21.9  │  75.3422 │   1.94797  │   1.56854  │   1.89486  │ NA      │ -2.02377 │ 12.2658   │  1.22658  │\n",
      "├──────────┼──────────┼──────────┼────────────┼────────────┼────────────┼─────────┼──────────┼───────────┼───────────┤\n",
      "│ GOOGL    │    71.45 │  42.2154 │   1.28451  │   0.83009  │   1.34613  │ NA      │ -1.69975 │  2.36674  │  0.236674 │\n",
      "├──────────┼──────────┼──────────┼────────────┼────────────┼────────────┼─────────┼──────────┼───────────┼───────────┤\n",
      "│ GME      │     4.3  │ 118.337  │   2.10261  │   2.02697  │   2.07978  │ NA      │ -1.63883 │  8.48149  │  0.848149 │\n",
      "├──────────┼──────────┼──────────┼────────────┼────────────┼────────────┼─────────┼──────────┼───────────┼───────────┤\n",
      "│ AMC      │     0.49 │ 104.814  │   2.20538  │   2.21826  │   2.22724  │ NA      │ -1.46431 │ 10.4139   │  1.1571   │\n",
      "├──────────┼──────────┼──────────┼────────────┼────────────┼────────────┼─────────┼──────────┼───────────┼───────────┤\n",
      "│ BB       │     0.18 │  69.8471 │   1.80911  │   1.63007  │   1.92648  │ NA      │ -1.76027 │ -0.103998 │ -0.0104   │\n",
      "├──────────┼──────────┼──────────┼────────────┼────────────┼────────────┼─────────┼──────────┼───────────┼───────────┤\n",
      "│ BBBY     │     0.16 │ 104.976  │   1.80856  │   1.91513  │   1.95584  │ NA      │ -1.91488 │ -1.2223   │ -0.12223  │\n",
      "├──────────┼──────────┼──────────┼────────────┼────────────┼────────────┼─────────┼──────────┼───────────┼───────────┤\n",
      "│ FIZZ     │     1.52 │  38.5391 │   0.764975 │   0.671188 │   0.850199 │ NA      │ -1.61868 │  3.05619  │  0.305619 │\n",
      "╘══════════╧══════════╧══════════╧════════════╧════════════╧════════════╧═════════╧══════════╧═══════════╧═══════════╛\n"
     ]
    }
   ],
   "source": [
    "dataframe = [[\"TSLA\", 21.90, 75.342181, 1.9479738585612192, 1.568537104078637, 1.894856764892976, 'NA', -2.023767, 12.265839, 1.226584],\n",
    "        [\"GOOGL\", 71.45, 42.215428, 1.2845087143250462, 0.8300901053550491, 1.3461252578440046, 'NA',-1.699749, 2.366739, 0.236674], \n",
    "        [\"GME\", 4.30, 118.337202, 2.102611801908878, 2.026969461226027, 2.0797752450634714, 'NA', -1.638826, 8.481490, 0.848149],\n",
    "        [\"AMC\", .49, 104.813733, 2.2053777009909306, 2.218264566999172, 2.227240169822518, 'NA', -1.464313, 10.413886, 1.157098],\n",
    "        [\"BB\", .18, 69.847132, 1.8091128110333217, 1.6300655354608682, 1.9264834834929547, 'NA', -1.760270, -0.103998, -0.010400],\n",
    "        [\"BBBY\", .16, 104.975754, 1.8085608535273974, 1.9151327038890589, 1.9558435543253443, 'NA', -1.914877, -1.222299, -0.122230],\n",
    "        [\"FIZZ\", 1.52, 38.539097, 0.7649746438098021, 0.6711877848368797, 0.8501990003706335, 'NA', -1.618678, 3.056189, 0.305619]]\n",
    "\n",
    "col_names = [\"Ticker\", \"Weight\", \"Vol 3M\", \"Beta SPY\", \"Beta IWM\", \"Beta DIA\", \"Av DD\", \"Max DD\", \"TR\", \"AR\"]\n",
    "\n",
    "print(tabulate(dataframe, headers=col_names, tablefmt=\"fancy_grid\"))"
   ]
  },
  {
   "cell_type": "code",
   "execution_count": null,
   "id": "0790f538-a05c-460b-ad05-6d41be372467",
   "metadata": {},
   "outputs": [],
   "source": [
    "data.head()"
   ]
  },
  {
   "cell_type": "code",
   "execution_count": null,
   "id": "daff651f-9c11-4b68-b88b-bc9305a15bc7",
   "metadata": {},
   "outputs": [],
   "source": [
    "(data.sum(axis=1)).pct_change().std()"
   ]
  }
 ],
 "metadata": {
  "kernelspec": {
   "display_name": "Python 3 (ipykernel)",
   "language": "python",
   "name": "python3"
  },
  "language_info": {
   "codemirror_mode": {
    "name": "ipython",
    "version": 3
   },
   "file_extension": ".py",
   "mimetype": "text/x-python",
   "name": "python",
   "nbconvert_exporter": "python",
   "pygments_lexer": "ipython3",
   "version": "3.9.7"
  }
 },
 "nbformat": 4,
 "nbformat_minor": 5
}
