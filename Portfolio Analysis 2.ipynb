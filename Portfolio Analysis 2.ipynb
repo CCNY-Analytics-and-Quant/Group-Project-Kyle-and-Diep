{
 "cells": [
  {
   "cell_type": "code",
   "execution_count": 64,
   "id": "84cd7049-b462-4288-ac6e-38258f97bd88",
   "metadata": {},
   "outputs": [],
   "source": [
    "import yfinance as yf\n",
    "import pandas as pd\n",
    "import numpy as np\n",
    "import datetime as dt\n",
    "import matplotlib.pyplot as plt\n",
    "import seaborn as sns"
   ]
  },
  {
   "cell_type": "code",
   "execution_count": 9,
   "id": "d16fb81a-ca70-4ec2-85da-c7ae79695b02",
   "metadata": {},
   "outputs": [
    {
     "name": "stdout",
     "output_type": "stream",
     "text": [
      "[*********************100%***********************]  10 of 10 completed\n"
     ]
    }
   ],
   "source": [
    "tickers = ['TSLA', 'GOOGL', 'GME', 'AMC', 'BB', 'BBBY', 'FIZZ']\n",
    "benchmarks = ['SPY', 'IWM', 'DIA']\n",
    "\n",
    "data = yf.download(tickers + benchmarks, period = '10y')['Adj Close']"
   ]
  },
  {
   "cell_type": "code",
   "execution_count": 12,
   "id": "b2aa5d8e-e1a1-45ed-bcfe-06abedb104ae",
   "metadata": {},
   "outputs": [
    {
     "data": {
      "text/html": [
       "<div>\n",
       "<style scoped>\n",
       "    .dataframe tbody tr th:only-of-type {\n",
       "        vertical-align: middle;\n",
       "    }\n",
       "\n",
       "    .dataframe tbody tr th {\n",
       "        vertical-align: top;\n",
       "    }\n",
       "\n",
       "    .dataframe thead th {\n",
       "        text-align: right;\n",
       "    }\n",
       "</style>\n",
       "<table border=\"1\" class=\"dataframe\">\n",
       "  <thead>\n",
       "    <tr style=\"text-align: right;\">\n",
       "      <th></th>\n",
       "      <th>AMC</th>\n",
       "      <th>BB</th>\n",
       "      <th>BBBY</th>\n",
       "      <th>DIA</th>\n",
       "      <th>FIZZ</th>\n",
       "      <th>GME</th>\n",
       "      <th>GOOGL</th>\n",
       "      <th>IWM</th>\n",
       "      <th>SPY</th>\n",
       "      <th>TSLA</th>\n",
       "      <th>my_port</th>\n",
       "    </tr>\n",
       "    <tr>\n",
       "      <th>Date</th>\n",
       "      <th></th>\n",
       "      <th></th>\n",
       "      <th></th>\n",
       "      <th></th>\n",
       "      <th></th>\n",
       "      <th></th>\n",
       "      <th></th>\n",
       "      <th></th>\n",
       "      <th></th>\n",
       "      <th></th>\n",
       "      <th></th>\n",
       "    </tr>\n",
       "  </thead>\n",
       "  <tbody>\n",
       "    <tr>\n",
       "      <th>2012-07-20</th>\n",
       "      <td>NaN</td>\n",
       "      <td>NaN</td>\n",
       "      <td>NaN</td>\n",
       "      <td>NaN</td>\n",
       "      <td>NaN</td>\n",
       "      <td>NaN</td>\n",
       "      <td>NaN</td>\n",
       "      <td>NaN</td>\n",
       "      <td>NaN</td>\n",
       "      <td>NaN</td>\n",
       "      <td>NaN</td>\n",
       "    </tr>\n",
       "    <tr>\n",
       "      <th>2012-07-23</th>\n",
       "      <td>NaN</td>\n",
       "      <td>0.011799</td>\n",
       "      <td>0.010101</td>\n",
       "      <td>-0.008826</td>\n",
       "      <td>-0.017409</td>\n",
       "      <td>-0.009816</td>\n",
       "      <td>0.007678</td>\n",
       "      <td>-0.015964</td>\n",
       "      <td>-0.010112</td>\n",
       "      <td>-0.035546</td>\n",
       "      <td>0.003210</td>\n",
       "    </tr>\n",
       "    <tr>\n",
       "      <th>2012-07-24</th>\n",
       "      <td>NaN</td>\n",
       "      <td>0.010204</td>\n",
       "      <td>-0.017258</td>\n",
       "      <td>-0.008273</td>\n",
       "      <td>0.002126</td>\n",
       "      <td>-0.025403</td>\n",
       "      <td>-0.012900</td>\n",
       "      <td>-0.013132</td>\n",
       "      <td>-0.008587</td>\n",
       "      <td>-0.026745</td>\n",
       "      <td>-0.015191</td>\n",
       "    </tr>\n",
       "    <tr>\n",
       "      <th>2012-07-25</th>\n",
       "      <td>NaN</td>\n",
       "      <td>-0.017316</td>\n",
       "      <td>-0.010011</td>\n",
       "      <td>0.005165</td>\n",
       "      <td>0.006365</td>\n",
       "      <td>0.002543</td>\n",
       "      <td>0.000691</td>\n",
       "      <td>0.002218</td>\n",
       "      <td>0.000224</td>\n",
       "      <td>-0.029826</td>\n",
       "      <td>-0.007845</td>\n",
       "    </tr>\n",
       "    <tr>\n",
       "      <th>2012-07-26</th>\n",
       "      <td>NaN</td>\n",
       "      <td>0.023495</td>\n",
       "      <td>0.022712</td>\n",
       "      <td>0.016363</td>\n",
       "      <td>0.005622</td>\n",
       "      <td>0.012682</td>\n",
       "      <td>0.008832</td>\n",
       "      <td>0.008591</td>\n",
       "      <td>0.016497</td>\n",
       "      <td>-0.028325</td>\n",
       "      <td>0.015489</td>\n",
       "    </tr>\n",
       "  </tbody>\n",
       "</table>\n",
       "</div>"
      ],
      "text/plain": [
       "            AMC        BB      BBBY       DIA      FIZZ       GME     GOOGL  \\\n",
       "Date                                                                          \n",
       "2012-07-20  NaN       NaN       NaN       NaN       NaN       NaN       NaN   \n",
       "2012-07-23  NaN  0.011799  0.010101 -0.008826 -0.017409 -0.009816  0.007678   \n",
       "2012-07-24  NaN  0.010204 -0.017258 -0.008273  0.002126 -0.025403 -0.012900   \n",
       "2012-07-25  NaN -0.017316 -0.010011  0.005165  0.006365  0.002543  0.000691   \n",
       "2012-07-26  NaN  0.023495  0.022712  0.016363  0.005622  0.012682  0.008832   \n",
       "\n",
       "                 IWM       SPY      TSLA   my_port  \n",
       "Date                                                \n",
       "2012-07-20       NaN       NaN       NaN       NaN  \n",
       "2012-07-23 -0.015964 -0.010112 -0.035546  0.003210  \n",
       "2012-07-24 -0.013132 -0.008587 -0.026745 -0.015191  \n",
       "2012-07-25  0.002218  0.000224 -0.029826 -0.007845  \n",
       "2012-07-26  0.008591  0.016497 -0.028325  0.015489  "
      ]
     },
     "execution_count": 12,
     "metadata": {},
     "output_type": "execute_result"
    }
   ],
   "source": [
    "#returning our tickers and return in percent change\n",
    "\n",
    "data['my_port'] = data[tickers].mean(axis=1)\n",
    "returns = data.pct_change()\n",
    "\n",
    "asset_comp.T"
   ]
  },
  {
   "cell_type": "code",
   "execution_count": 15,
   "id": "42d54188-2f8d-4634-bc93-a892af6363f2",
   "metadata": {},
   "outputs": [],
   "source": [
    "asset_comp = pd.DataFrame(index = tickers)"
   ]
  },
  {
   "cell_type": "code",
   "execution_count": 16,
   "id": "3438fd07-9ba6-4bbc-b9eb-d6fd7e7f8b5f",
   "metadata": {},
   "outputs": [],
   "source": [
    "asset_comp['weight'] = 1/ len(tickers)"
   ]
  },
  {
   "cell_type": "code",
   "execution_count": 22,
   "id": "9a2e4c58-7c7d-4cf3-b2f2-1bfdb4eb3a90",
   "metadata": {},
   "outputs": [],
   "source": [
    "asset_comp['ann_vol'] = (returns[:-63].var() / returns[:-63].std()) / np.sqrt(4)"
   ]
  },
  {
   "cell_type": "code",
   "execution_count": 26,
   "id": "e22bfd76-c34d-492d-a17c-b9ab950f92e1",
   "metadata": {},
   "outputs": [],
   "source": [
    "beta = returns[-252:].cov() / returns[-252:].var()"
   ]
  },
  {
   "cell_type": "code",
   "execution_count": 27,
   "id": "15493e29-ede6-4b39-9eb0-b5f626a7df5a",
   "metadata": {},
   "outputs": [],
   "source": [
    "for bench in benchmarks:\n",
    "         asset_comp[bench + \"Beta\"] = beta[bench]"
   ]
  },
  {
   "cell_type": "code",
   "execution_count": 30,
   "id": "4536f0ef-4621-4963-ae91-5a1c7bc377ba",
   "metadata": {},
   "outputs": [],
   "source": [
    "drawdown_5day_roll = returns.rolling(5).max() - returns.rolling(5).min()\n",
    "\n",
    "asset_comp['avg_drawdown'] = drawdown_5day_roll.mean()\n",
    "asset_comp['med_drawdown'] = drawdown_5day_roll.median()\n",
    "asset_comp['max_drawdown'] = drawdown_5day_roll.max()"
   ]
  },
  {
   "cell_type": "code",
   "execution_count": 35,
   "id": "8c0bcdea-e93f-4849-ab1a-d6608a8263ca",
   "metadata": {},
   "outputs": [],
   "source": [
    "asset_comp['total_return']  = data.pct_change(len(data) - 1)[-1:].T\n",
    "asset_comp['annualized_ret'] = asset_comp.total_return ** (1/np.sqrt(2520))"
   ]
  },
  {
   "cell_type": "code",
   "execution_count": 66,
   "id": "5a9e1c2c-89a5-4a83-b67a-a9a8febd47af",
   "metadata": {},
   "outputs": [
    {
     "data": {
      "text/html": [
       "<div>\n",
       "<style scoped>\n",
       "    .dataframe tbody tr th:only-of-type {\n",
       "        vertical-align: middle;\n",
       "    }\n",
       "\n",
       "    .dataframe tbody tr th {\n",
       "        vertical-align: top;\n",
       "    }\n",
       "\n",
       "    .dataframe thead th {\n",
       "        text-align: right;\n",
       "    }\n",
       "</style>\n",
       "<table border=\"1\" class=\"dataframe\">\n",
       "  <thead>\n",
       "    <tr style=\"text-align: right;\">\n",
       "      <th></th>\n",
       "      <th>TSLA</th>\n",
       "      <th>GOOGL</th>\n",
       "      <th>GME</th>\n",
       "      <th>AMC</th>\n",
       "      <th>BB</th>\n",
       "      <th>BBBY</th>\n",
       "      <th>FIZZ</th>\n",
       "    </tr>\n",
       "  </thead>\n",
       "  <tbody>\n",
       "    <tr>\n",
       "      <th>weight</th>\n",
       "      <td>0.142857</td>\n",
       "      <td>0.142857</td>\n",
       "      <td>0.142857</td>\n",
       "      <td>0.142857</td>\n",
       "      <td>0.142857</td>\n",
       "      <td>0.142857</td>\n",
       "      <td>0.142857</td>\n",
       "    </tr>\n",
       "    <tr>\n",
       "      <th>ann_vol</th>\n",
       "      <td>0.017627</td>\n",
       "      <td>0.008061</td>\n",
       "      <td>0.032953</td>\n",
       "      <td>0.043546</td>\n",
       "      <td>0.018643</td>\n",
       "      <td>0.019919</td>\n",
       "      <td>0.013239</td>\n",
       "    </tr>\n",
       "    <tr>\n",
       "      <th>SPYBeta</th>\n",
       "      <td>1.907500</td>\n",
       "      <td>1.293655</td>\n",
       "      <td>2.112711</td>\n",
       "      <td>2.167809</td>\n",
       "      <td>1.804195</td>\n",
       "      <td>1.781765</td>\n",
       "      <td>0.773593</td>\n",
       "    </tr>\n",
       "    <tr>\n",
       "      <th>IWMBeta</th>\n",
       "      <td>1.534558</td>\n",
       "      <td>0.845169</td>\n",
       "      <td>2.020515</td>\n",
       "      <td>2.141892</td>\n",
       "      <td>1.628155</td>\n",
       "      <td>1.902002</td>\n",
       "      <td>0.671203</td>\n",
       "    </tr>\n",
       "    <tr>\n",
       "      <th>DIABeta</th>\n",
       "      <td>1.856554</td>\n",
       "      <td>1.361746</td>\n",
       "      <td>2.111228</td>\n",
       "      <td>2.164421</td>\n",
       "      <td>1.917629</td>\n",
       "      <td>1.935935</td>\n",
       "      <td>0.861999</td>\n",
       "    </tr>\n",
       "    <tr>\n",
       "      <th>avg_drawdown</th>\n",
       "      <td>0.074631</td>\n",
       "      <td>0.034337</td>\n",
       "      <td>0.091159</td>\n",
       "      <td>0.098487</td>\n",
       "      <td>0.070706</td>\n",
       "      <td>0.068741</td>\n",
       "      <td>0.054363</td>\n",
       "    </tr>\n",
       "    <tr>\n",
       "      <th>med_drawdown</th>\n",
       "      <td>0.061824</td>\n",
       "      <td>0.028679</td>\n",
       "      <td>0.058800</td>\n",
       "      <td>0.059918</td>\n",
       "      <td>0.054331</td>\n",
       "      <td>0.044755</td>\n",
       "      <td>0.046714</td>\n",
       "    </tr>\n",
       "    <tr>\n",
       "      <th>max_drawdown</th>\n",
       "      <td>0.370707</td>\n",
       "      <td>0.208753</td>\n",
       "      <td>1.948358</td>\n",
       "      <td>3.578428</td>\n",
       "      <td>0.742973</td>\n",
       "      <td>0.899174</td>\n",
       "      <td>0.535827</td>\n",
       "    </tr>\n",
       "    <tr>\n",
       "      <th>total_return</th>\n",
       "      <td>114.852477</td>\n",
       "      <td>6.445479</td>\n",
       "      <td>12.623733</td>\n",
       "      <td>NaN</td>\n",
       "      <td>-0.119469</td>\n",
       "      <td>-0.901899</td>\n",
       "      <td>8.557994</td>\n",
       "    </tr>\n",
       "    <tr>\n",
       "      <th>annualized_ret</th>\n",
       "      <td>1.099104</td>\n",
       "      <td>1.037817</td>\n",
       "      <td>1.051807</td>\n",
       "      <td>NaN</td>\n",
       "      <td>NaN</td>\n",
       "      <td>NaN</td>\n",
       "      <td>1.043694</td>\n",
       "    </tr>\n",
       "  </tbody>\n",
       "</table>\n",
       "</div>"
      ],
      "text/plain": [
       "                      TSLA     GOOGL        GME       AMC        BB      BBBY  \\\n",
       "weight            0.142857  0.142857   0.142857  0.142857  0.142857  0.142857   \n",
       "ann_vol           0.017627  0.008061   0.032953  0.043546  0.018643  0.019919   \n",
       "SPYBeta           1.907500  1.293655   2.112711  2.167809  1.804195  1.781765   \n",
       "IWMBeta           1.534558  0.845169   2.020515  2.141892  1.628155  1.902002   \n",
       "DIABeta           1.856554  1.361746   2.111228  2.164421  1.917629  1.935935   \n",
       "avg_drawdown      0.074631  0.034337   0.091159  0.098487  0.070706  0.068741   \n",
       "med_drawdown      0.061824  0.028679   0.058800  0.059918  0.054331  0.044755   \n",
       "max_drawdown      0.370707  0.208753   1.948358  3.578428  0.742973  0.899174   \n",
       "total_return    114.852477  6.445479  12.623733       NaN -0.119469 -0.901899   \n",
       "annualized_ret    1.099104  1.037817   1.051807       NaN       NaN       NaN   \n",
       "\n",
       "                    FIZZ  \n",
       "weight          0.142857  \n",
       "ann_vol         0.013239  \n",
       "SPYBeta         0.773593  \n",
       "IWMBeta         0.671203  \n",
       "DIABeta         0.861999  \n",
       "avg_drawdown    0.054363  \n",
       "med_drawdown    0.046714  \n",
       "max_drawdown    0.535827  \n",
       "total_return    8.557994  \n",
       "annualized_ret  1.043694  "
      ]
     },
     "execution_count": 66,
     "metadata": {},
     "output_type": "execute_result"
    }
   ],
   "source": [
    "asset_comp.T"
   ]
  },
  {
   "cell_type": "code",
   "execution_count": 43,
   "id": "8ee361c7-6430-4cdb-b5ea-7dea609a1204",
   "metadata": {},
   "outputs": [],
   "source": [
    "# table 2\n",
    "\n",
    "port_comp = pd.DataFrame(index=benchmarks)\n",
    "\n",
    "#correlation and covariance\n",
    "port_comp['Correlation'] = returns[benchmarks+['my_port']].corr().my_port \n",
    "port_comp['Covariance'] = returns[benchmarks+['my_port']].cov().my_port * 10000 "
   ]
  },
  {
   "cell_type": "code",
   "execution_count": 44,
   "id": "89c84316-3eec-4130-953d-054bf37424c9",
   "metadata": {},
   "outputs": [],
   "source": [
    "# tracking error\n",
    "for bench in benchmarks:\n",
    "          port_comp.loc[bench, 'Error'] = (returns[bench] - returns.my_port).std() * 100 "
   ]
  },
  {
   "cell_type": "code",
   "execution_count": 45,
   "id": "bde87fcb-d4b5-4e15-88c2-393349f6edee",
   "metadata": {},
   "outputs": [],
   "source": [
    "# calculate excess return (port vs risk-free)\n",
    "excess_return = (returns.my_port[-252:] - (0.02 / np.sqrt(252)))"
   ]
  },
  {
   "cell_type": "code",
   "execution_count": 48,
   "id": "d0119685-51a7-47ed-a0d9-e976920ec5a9",
   "metadata": {},
   "outputs": [],
   "source": [
    "# prepare dataframe for new data\n",
    "port_comp[\"Sharpe\"] = 0"
   ]
  },
  {
   "cell_type": "code",
   "execution_count": 55,
   "id": "b7e3b5e7-a237-4743-980b-fe56fa22d150",
   "metadata": {},
   "outputs": [],
   "source": [
    "# calculate Sharpe ratio for each benchmark\n",
    "for bench in benchmarks:\n",
    "    port_comp.loc[bench, 'Sharpe'] = (\n",
    "        excess_return / (returns[-252:].my_port - returns[-252:][bench]).std())[-1]"
   ]
  },
  {
   "cell_type": "code",
   "execution_count": 61,
   "id": "7ef92b25-e817-489c-a629-c74741530743",
   "metadata": {},
   "outputs": [
    {
     "data": {
      "text/html": [
       "<div>\n",
       "<style scoped>\n",
       "    .dataframe tbody tr th:only-of-type {\n",
       "        vertical-align: middle;\n",
       "    }\n",
       "\n",
       "    .dataframe tbody tr th {\n",
       "        vertical-align: top;\n",
       "    }\n",
       "\n",
       "    .dataframe thead th {\n",
       "        text-align: right;\n",
       "    }\n",
       "</style>\n",
       "<table border=\"1\" class=\"dataframe\">\n",
       "  <thead>\n",
       "    <tr style=\"text-align: right;\">\n",
       "      <th></th>\n",
       "      <th>SPY</th>\n",
       "      <th>IWM</th>\n",
       "      <th>DIA</th>\n",
       "    </tr>\n",
       "  </thead>\n",
       "  <tbody>\n",
       "    <tr>\n",
       "      <th>Correlation</th>\n",
       "      <td>0.558721</td>\n",
       "      <td>0.571323</td>\n",
       "      <td>0.487979</td>\n",
       "    </tr>\n",
       "    <tr>\n",
       "      <th>Covariance</th>\n",
       "      <td>1.341285</td>\n",
       "      <td>1.722120</td>\n",
       "      <td>1.182451</td>\n",
       "    </tr>\n",
       "    <tr>\n",
       "      <th>Error</th>\n",
       "      <td>1.887427</td>\n",
       "      <td>1.857361</td>\n",
       "      <td>1.975163</td>\n",
       "    </tr>\n",
       "    <tr>\n",
       "      <th>Sharpe</th>\n",
       "      <td>0.844256</td>\n",
       "      <td>0.897896</td>\n",
       "      <td>0.778273</td>\n",
       "    </tr>\n",
       "    <tr>\n",
       "      <th>Volatility Spread</th>\n",
       "      <td>0.982827</td>\n",
       "      <td>0.983736</td>\n",
       "      <td>0.982131</td>\n",
       "    </tr>\n",
       "  </tbody>\n",
       "</table>\n",
       "</div>"
      ],
      "text/plain": [
       "                        SPY       IWM       DIA\n",
       "Correlation        0.558721  0.571323  0.487979\n",
       "Covariance         1.341285  1.722120  1.182451\n",
       "Error              1.887427  1.857361  1.975163\n",
       "Sharpe             0.844256  0.897896  0.778273\n",
       "Volatility Spread  0.982827  0.983736  0.982131"
      ]
     },
     "execution_count": 61,
     "metadata": {},
     "output_type": "execute_result"
    }
   ],
   "source": [
    "port_comp[\"Volatility Spread\"] = returns[benchmarks + [\"my_port\"]][-252:].std() ** (\n",
    "        1 / 252\n",
    ")\n",
    "\n",
    "port_comp.T"
   ]
  },
  {
   "cell_type": "code",
   "execution_count": 65,
   "id": "8a080767-630e-4e23-9c05-c07880b2f4a2",
   "metadata": {},
   "outputs": [
    {
     "data": {
      "image/png": "[encoded data removed]",
      "text/plain": [
       "<Figure size 720x720 with 2 Axes>"
      ]
     },
     "metadata": {
      "needs_background": "light"
     },
     "output_type": "display_data"
    }
   ],
   "source": [
    "fig, ax = plt.subplots(figsize=(10, 10))\n",
    "sns.heatmap(returns[benchmarks+['my_port']+tickers].corr(), cmap = 'viridis')\n",
    "\n",
    "plt.show()"
   ]
  },
  {
   "cell_type": "code",
   "execution_count": 8,
   "id": "4e651dc3-4dc7-4888-897c-e681394db619",
   "metadata": {},
   "outputs": [
    {
     "name": "stdout",
     "output_type": "stream",
     "text": [
      "╒══════════╤═══════════════╤══════════════╤═══════════════════════╤════════════════╤═════════════════════════╕\n",
      "│ Ticker   │   Correlation │   Covariance │   Tracking Errors 10Y │   Sharpe Ratio │   Annualized Volatility │\n",
      "╞══════════╪═══════════════╪══════════════╪═══════════════════════╪════════════════╪═════════════════════════╡\n",
      "│ SPY      │         21.9  │      75.3422 │              1.94797  │       1.56854  │                1.89486  │\n",
      "├──────────┼───────────────┼──────────────┼───────────────────────┼────────────────┼─────────────────────────┤\n",
      "│ IWM      │         71.45 │      42.2154 │              1.28451  │       0.83009  │                1.34613  │\n",
      "├──────────┼───────────────┼──────────────┼───────────────────────┼────────────────┼─────────────────────────┤\n",
      "│ DIA      │          1.52 │      38.5391 │              0.764975 │       0.671188 │                0.850199 │\n",
      "╘══════════╧═══════════════╧══════════════╧═══════════════════════╧════════════════╧═════════════════════════╛\n"
     ]
    }
   ],
   "source": [
    "dataframe = [[\"SPY\", 21.90, 75.342181, 1.9479738585612192, 1.568537104078637, 1.894856764892976],\n",
    "        [\"IWM\", 71.45, 42.215428, 1.2845087143250462, 0.8300901053550491, 1.3461252578440046],\n",
    "        [\"DIA\", 1.52, 38.539097, 0.7649746438098021, 0.6711877848368797, 0.8501990003706335]]\n",
    "\n",
    "col_names = [\"Ticker\", \"Correlation\", \"Covariance\", \"Tracking Errors 10Y\", \"Sharpe Ratio\", \"Annualized Volatility\"]\n",
    "\n",
    "print(tabulate(dataframe, headers=col_names, tablefmt=\"fancy_grid\"))"
   ]
  },
  {
   "cell_type": "code",
   "execution_count": null,
   "id": "6aeec706-a93a-4d9d-a804-21c9716fad9e",
   "metadata": {},
   "outputs": [],
   "source": [
    "# code cited from the wonderf"
   ]
  }
 ],
 "metadata": {
  "kernelspec": {
   "display_name": "Python 3 (ipykernel)",
   "language": "python",
   "name": "python3"
  },
  "language_info": {
   "codemirror_mode": {
    "name": "ipython",
    "version": 3
   },
   "file_extension": ".py",
   "mimetype": "text/x-python",
   "name": "python",
   "nbconvert_exporter": "python",
   "pygments_lexer": "ipython3",
   "version": "3.9.7"
  }
 },
 "nbformat": 4,
 "nbformat_minor": 5
}
